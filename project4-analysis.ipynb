{
 "cells": [
  {
   "cell_type": "code",
   "execution_count": 3,
   "metadata": {},
   "outputs": [],
   "source": [
    "import pandas as pd\n",
    "import sqlite3\n",
    "\n"
   ]
  },
  {
   "cell_type": "code",
   "execution_count": 2,
   "metadata": {},
   "outputs": [
    {
     "data": {
      "text/html": [
       "<div>\n",
       "<style scoped>\n",
       "    .dataframe tbody tr th:only-of-type {\n",
       "        vertical-align: middle;\n",
       "    }\n",
       "\n",
       "    .dataframe tbody tr th {\n",
       "        vertical-align: top;\n",
       "    }\n",
       "\n",
       "    .dataframe thead th {\n",
       "        text-align: right;\n",
       "    }\n",
       "</style>\n",
       "<table border=\"1\" class=\"dataframe\">\n",
       "  <thead>\n",
       "    <tr style=\"text-align: right;\">\n",
       "      <th></th>\n",
       "      <th>nconst</th>\n",
       "      <th>primaryName</th>\n",
       "      <th>birthYear</th>\n",
       "      <th>deathYear</th>\n",
       "      <th>primaryProfession</th>\n",
       "      <th>knownForTitles</th>\n",
       "    </tr>\n",
       "  </thead>\n",
       "  <tbody>\n",
       "    <tr>\n",
       "      <th>0</th>\n",
       "      <td>nm0000001</td>\n",
       "      <td>Fred Astaire</td>\n",
       "      <td>1899</td>\n",
       "      <td>1987</td>\n",
       "      <td>soundtrack,actor,miscellaneous</td>\n",
       "      <td>tt0050419,tt0031983,tt0053137,tt0072308</td>\n",
       "    </tr>\n",
       "    <tr>\n",
       "      <th>1</th>\n",
       "      <td>nm0000002</td>\n",
       "      <td>Lauren Bacall</td>\n",
       "      <td>1924</td>\n",
       "      <td>2014</td>\n",
       "      <td>actress,soundtrack</td>\n",
       "      <td>tt0075213,tt0038355,tt0117057,tt0037382</td>\n",
       "    </tr>\n",
       "    <tr>\n",
       "      <th>2</th>\n",
       "      <td>nm0000003</td>\n",
       "      <td>Brigitte Bardot</td>\n",
       "      <td>1934</td>\n",
       "      <td>\\N</td>\n",
       "      <td>actress,soundtrack,music_department</td>\n",
       "      <td>tt0056404,tt0057345,tt0049189,tt0054452</td>\n",
       "    </tr>\n",
       "    <tr>\n",
       "      <th>3</th>\n",
       "      <td>nm0000004</td>\n",
       "      <td>John Belushi</td>\n",
       "      <td>1949</td>\n",
       "      <td>1982</td>\n",
       "      <td>actor,soundtrack,writer</td>\n",
       "      <td>tt0072562,tt0080455,tt0077975,tt0078723</td>\n",
       "    </tr>\n",
       "    <tr>\n",
       "      <th>4</th>\n",
       "      <td>nm0000005</td>\n",
       "      <td>Ingmar Bergman</td>\n",
       "      <td>1918</td>\n",
       "      <td>2007</td>\n",
       "      <td>writer,director,actor</td>\n",
       "      <td>tt0060827,tt0050986,tt0083922,tt0069467</td>\n",
       "    </tr>\n",
       "  </tbody>\n",
       "</table>\n",
       "</div>"
      ],
      "text/plain": [
       "      nconst      primaryName birthYear deathYear  \\\n",
       "0  nm0000001     Fred Astaire      1899      1987   \n",
       "1  nm0000002    Lauren Bacall      1924      2014   \n",
       "2  nm0000003  Brigitte Bardot      1934        \\N   \n",
       "3  nm0000004     John Belushi      1949      1982   \n",
       "4  nm0000005   Ingmar Bergman      1918      2007   \n",
       "\n",
       "                     primaryProfession  \\\n",
       "0       soundtrack,actor,miscellaneous   \n",
       "1                   actress,soundtrack   \n",
       "2  actress,soundtrack,music_department   \n",
       "3              actor,soundtrack,writer   \n",
       "4                writer,director,actor   \n",
       "\n",
       "                            knownForTitles  \n",
       "0  tt0050419,tt0031983,tt0053137,tt0072308  \n",
       "1  tt0075213,tt0038355,tt0117057,tt0037382  \n",
       "2  tt0056404,tt0057345,tt0049189,tt0054452  \n",
       "3  tt0072562,tt0080455,tt0077975,tt0078723  \n",
       "4  tt0060827,tt0050986,tt0083922,tt0069467  "
      ]
     },
     "execution_count": 2,
     "metadata": {},
     "output_type": "execute_result"
    }
   ],
   "source": [
    "df = pd.read_csv(\"./data/name_basics.tsv\",sep='\\t')\n",
    "df.head()"
   ]
  },
  {
   "cell_type": "code",
   "execution_count": 3,
   "metadata": {},
   "outputs": [
    {
     "name": "stderr",
     "output_type": "stream",
     "text": [
      "/Users/juliacooper/opt/anaconda3/envs/bootcamp/lib/python3.7/site-packages/IPython/core/interactiveshell.py:3457: DtypeWarning: Columns (4) have mixed types.Specify dtype option on import or set low_memory=False.\n",
      "  exec(code_obj, self.user_global_ns, self.user_ns)\n"
     ]
    }
   ],
   "source": [
    "df1= pd.read_csv(\"./data/title_basics.tsv\",sep='\\t')\n",
    "df= pd.read_csv(\"./data/title_rating.tsv\",sep='\\t')\n",
    "df2 = df1.merge(df,how = 'inner',on='tconst')"
   ]
  },
  {
   "cell_type": "code",
   "execution_count": 4,
   "metadata": {},
   "outputs": [
    {
     "name": "stderr",
     "output_type": "stream",
     "text": [
      "/Users/juliacooper/opt/anaconda3/envs/bootcamp/lib/python3.7/site-packages/IPython/core/interactiveshell.py:3457: DtypeWarning: Columns (7) have mixed types.Specify dtype option on import or set low_memory=False.\n",
      "  exec(code_obj, self.user_global_ns, self.user_ns)\n"
     ]
    }
   ],
   "source": [
    "df= pd.read_csv(\"./data/title_akas.tsv\",sep='\\t')\n",
    "df = df.groupby(by=\"titleId\").count()\n",
    "df.reset_index(inplace=True)\n",
    "df=df[['titleId','language']]\n",
    "df= df.rename(columns={'titleId':'tconst'})\n",
    "df2 = df2.merge(df, how = 'left', on = 'tconst')"
   ]
  },
  {
   "cell_type": "code",
   "execution_count": 5,
   "metadata": {},
   "outputs": [],
   "source": [
    "df= pd.read_csv(\"./data/title_crew.tsv\",sep='\\t')\n",
    "df2 =df2.merge(df,how='left',on='tconst')"
   ]
  },
  {
   "cell_type": "code",
   "execution_count": 6,
   "metadata": {},
   "outputs": [],
   "source": [
    "df= pd.read_csv(\"./data/title_episode.tsv\",sep='\\t')\n",
    "df2=df2.merge(df,how='left',on='tconst')"
   ]
  },
  {
   "cell_type": "code",
   "execution_count": 1,
   "metadata": {},
   "outputs": [
    {
     "ename": "NameError",
     "evalue": "name 'df2' is not defined",
     "output_type": "error",
     "traceback": [
      "\u001b[0;31m---------------------------------------------------------------------------\u001b[0m",
      "\u001b[0;31mNameError\u001b[0m                                 Traceback (most recent call last)",
      "\u001b[0;32m/var/folders/h4/302vnt9j1kb09wlh6m55qbt40000gn/T/ipykernel_1982/2787335267.py\u001b[0m in \u001b[0;36m<module>\u001b[0;34m\u001b[0m\n\u001b[1;32m      1\u001b[0m \u001b[0;31m#replace NA , \\N\u001b[0m\u001b[0;34m\u001b[0m\u001b[0;34m\u001b[0m\u001b[0;34m\u001b[0m\u001b[0m\n\u001b[0;32m----> 2\u001b[0;31m \u001b[0mdf2\u001b[0m\u001b[0;34m.\u001b[0m\u001b[0mparentTconst\u001b[0m\u001b[0;34m.\u001b[0m\u001b[0mfillna\u001b[0m\u001b[0;34m(\u001b[0m\u001b[0;34m\"movie\"\u001b[0m\u001b[0;34m,\u001b[0m\u001b[0minplace\u001b[0m\u001b[0;34m=\u001b[0m\u001b[0;32mTrue\u001b[0m\u001b[0;34m)\u001b[0m\u001b[0;34m\u001b[0m\u001b[0;34m\u001b[0m\u001b[0m\n\u001b[0m\u001b[1;32m      3\u001b[0m \u001b[0mdf2\u001b[0m\u001b[0;34m.\u001b[0m\u001b[0mseasonNumber\u001b[0m\u001b[0;34m.\u001b[0m\u001b[0mfillna\u001b[0m\u001b[0;34m(\u001b[0m\u001b[0;36m0\u001b[0m\u001b[0;34m,\u001b[0m\u001b[0minplace\u001b[0m\u001b[0;34m=\u001b[0m\u001b[0;32mTrue\u001b[0m\u001b[0;34m)\u001b[0m\u001b[0;34m\u001b[0m\u001b[0;34m\u001b[0m\u001b[0m\n\u001b[1;32m      4\u001b[0m \u001b[0mdf2\u001b[0m\u001b[0;34m.\u001b[0m\u001b[0mseasonNumber\u001b[0m\u001b[0;34m.\u001b[0m\u001b[0mreplace\u001b[0m\u001b[0;34m(\u001b[0m\u001b[0;34mr\"\\\\N\"\u001b[0m\u001b[0;34m,\u001b[0m\u001b[0;36m0\u001b[0m\u001b[0;34m,\u001b[0m\u001b[0mregex\u001b[0m\u001b[0;34m=\u001b[0m\u001b[0;32mTrue\u001b[0m\u001b[0;34m,\u001b[0m\u001b[0minplace\u001b[0m\u001b[0;34m=\u001b[0m\u001b[0;32mTrue\u001b[0m\u001b[0;34m)\u001b[0m\u001b[0;34m\u001b[0m\u001b[0;34m\u001b[0m\u001b[0m\n\u001b[1;32m      5\u001b[0m \u001b[0mdf2\u001b[0m\u001b[0;34m.\u001b[0m\u001b[0mepisodeNumber\u001b[0m\u001b[0;34m.\u001b[0m\u001b[0mreplace\u001b[0m\u001b[0;34m(\u001b[0m\u001b[0;34mr\"\\\\N\"\u001b[0m\u001b[0;34m,\u001b[0m\u001b[0;36m0\u001b[0m\u001b[0;34m,\u001b[0m\u001b[0mregex\u001b[0m\u001b[0;34m=\u001b[0m\u001b[0;32mTrue\u001b[0m\u001b[0;34m,\u001b[0m\u001b[0minplace\u001b[0m\u001b[0;34m=\u001b[0m\u001b[0;32mTrue\u001b[0m\u001b[0;34m)\u001b[0m\u001b[0;34m\u001b[0m\u001b[0;34m\u001b[0m\u001b[0m\n",
      "\u001b[0;31mNameError\u001b[0m: name 'df2' is not defined"
     ]
    }
   ],
   "source": [
    "#replace NA , \\N\n",
    "df2.parentTconst.fillna(\"movie\",inplace=True)\n",
    "df2.seasonNumber.fillna(0,inplace=True)\n",
    "df2.seasonNumber.replace(r\"\\\\N\",0,regex=True,inplace=True)\n",
    "df2.episodeNumber.replace(r\"\\\\N\",0,regex=True,inplace=True)\n",
    "df2.episodeNumber.fillna(0,inplace=True)\n",
    "df2.writers.replace(r\"\\\\N\",\"unknown\",regex=True,inplace=True)\n",
    "df2.directors.replace(r\"\\\\N\",\"unknown\",regex=True,inplace=True)\n",
    "df2.language.fillna(1,inplace=True)\n",
    "df2.genres.replace(r\"\\\\N\",\"unknown\",regex=True,inplace=True)\n",
    "df2.runtimeMinutes.replace(r\"\\\\N\",0,regex=True,inplace=True)\n",
    "df2.endYear.replace(r\"\\\\N\",0,regex=True,inplace=True)\n",
    "df2.startYear.replace(r\"\\\\N\",0,regex=True,inplace=True)\n",
    "df2.runtimeMinutes.replace(\"Game-Show,Reality-TV\",0,inplace=True)\n",
    "df2.runtimeMinutes.replace(\"Game-Show\",0,inplace=True)\n",
    "df2.runtimeMinutes=pd.to_numeric(df2.runtimeMinutes)\n",
    "#convert data type\n",
    "df2.isAdult=pd.to_numeric(df2.isAdult)\n",
    "df2.startYear=pd.to_numeric(df2.startYear)\n",
    "df2.endYear=pd.to_numeric(df2.endYear)\n",
    "df2.seasonNumber=pd.to_numeric(df2.seasonNumber)\n",
    "df2.episodeNumber=pd.to_numeric(df2.episodeNumber)\n",
    "df2.to_csv('./data/imdbdata.csv',index=False)\n",
    "df2"
   ]
  },
  {
   "cell_type": "code",
   "execution_count": 8,
   "metadata": {},
   "outputs": [],
   "source": [
    "#consolidate the movie data files\n",
    "# import os\n",
    "\n",
    "# directory = os.fsencode('./themoviedb')\n",
    "# count = 0\n",
    "    \n",
    "# for file in os.listdir(directory):\n",
    "#     filename = os.fsdecode(file)\n",
    "     \n",
    "#     file = (f'./themoviedb/{filename}')\n",
    "#     if count==0:\n",
    "#         df = pd.read_csv(file)\n",
    "#         count+=1\n",
    "#     else:\n",
    "#         df1 =pd.read_csv(file)\n",
    "#         df = pd.concat([df,df1],ignore_index=True)\n",
    "        \n",
    "# df4 = pd.read_csv('./Julia/themoviedb_id_500000_to_600000.csv',\n",
    "#                  lineterminator='\\n')\n",
    "# df = pd.concat([df,df4],ignore_index=True)\n",
    "# df.to_csv('./data/themoviedb.csv', index=False)"
   ]
  },
  {
   "cell_type": "code",
   "execution_count": 9,
   "metadata": {},
   "outputs": [],
   "source": [
    "#consolidate omdb data files\n",
    "# import os\n",
    "\n",
    "# directory = os.fsencode('./omdb')\n",
    "# count = 0\n",
    "    \n",
    "# for file in os.listdir(directory):\n",
    "#     filename = os.fsdecode(file)\n",
    "     \n",
    "#     file = (f'./omdb/{filename}')\n",
    "#     if count==0:\n",
    "#         df = pd.read_csv(file)\n",
    "#         count+=1\n",
    "#     else:\n",
    "#         df1 =pd.read_csv(file)\n",
    "#         df = pd.concat([df,df1],ignore_index=True)\n",
    "# df.to_csv('./data/omdb.csv', index=False)"
   ]
  },
  {
   "cell_type": "code",
   "execution_count": 8,
   "metadata": {},
   "outputs": [
    {
     "name": "stderr",
     "output_type": "stream",
     "text": [
      "/Users/juliacooper/opt/anaconda3/envs/bootcamp/lib/python3.7/site-packages/IPython/core/interactiveshell.py:3457: DtypeWarning: Columns (1,2,3,5,6,7,8,9,10,11,12,13,14,15,16) have mixed types.Specify dtype option on import or set low_memory=False.\n",
      "  exec(code_obj, self.user_global_ns, self.user_ns)\n"
     ]
    }
   ],
   "source": [
    "#read and merge 3 data sources\n",
    "df2 = pd.read_csv('./data/imdbdata.csv')\n",
    "df = pd.read_csv('./data/themoviedb.csv')\n",
    "df.rename(columns={'imdb_id':'tconst'},inplace=True)\n",
    "df2= df2.merge(df,how='inner',on='tconst')\n",
    "df2=df2.loc[df2.startYear>=1990,:]\n",
    "df2=df2.loc[df2.titleType=='movie',:]\n",
    "# df2.to_csv('./data/subset_movie_data_new.csv',index=False)\n",
    "df = pd.read_csv('./data/omdb_visualisation.csv')\n",
    "df2= df2.merge(df,how='inner',on='tconst')"
   ]
  },
  {
   "cell_type": "code",
   "execution_count": 9,
   "metadata": {},
   "outputs": [],
   "source": [
    "#export to raw data\n",
    "df2.to_csv('./data/raw_consolidate_visulalisation.csv',index=False)\n"
   ]
  },
  {
   "cell_type": "code",
   "execution_count": 10,
   "metadata": {},
   "outputs": [
    {
     "name": "stderr",
     "output_type": "stream",
     "text": [
      "/Users/juliacooper/opt/anaconda3/envs/bootcamp/lib/python3.7/site-packages/IPython/core/interactiveshell.py:3457: DtypeWarning: Columns (30,31,32,34,35,36,37,38,39,40,41,42,43,44,45) have mixed types.Specify dtype option on import or set low_memory=False.\n",
      "  exec(code_obj, self.user_global_ns, self.user_ns)\n"
     ]
    },
    {
     "name": "stdout",
     "output_type": "stream",
     "text": [
      "<class 'pandas.core.frame.DataFrame'>\n",
      "Int64Index: 152826 entries, 0 to 153308\n",
      "Data columns (total 85 columns):\n",
      " #   Column                Non-Null Count   Dtype  \n",
      "---  ------                --------------   -----  \n",
      " 0   tconst                152826 non-null  object \n",
      " 1   primaryTitle          152826 non-null  object \n",
      " 2   startYear             152826 non-null  int64  \n",
      " 3   runtimeMinutes        152826 non-null  int64  \n",
      " 4   averageRating         152826 non-null  float64\n",
      " 5   number_of_languages   152826 non-null  int64  \n",
      " 6   budget                152826 non-null  float64\n",
      " 7   is_in_collection      152826 non-null  int64  \n",
      " 8   release_month         152826 non-null  int64  \n",
      " 9   popular_actors_count  152826 non-null  int64  \n",
      " 10  rated_unknown         152826 non-null  int64  \n",
      " 11  rated_PG-13           152826 non-null  int64  \n",
      " 12  rated_R               152826 non-null  int64  \n",
      " 13  rated_Unrated         152826 non-null  int64  \n",
      " 14  rated_PG              152826 non-null  int64  \n",
      " 15  rated_MA              152826 non-null  int64  \n",
      " 16  rated_TV-14           152826 non-null  int64  \n",
      " 17  rated_G               152826 non-null  int64  \n",
      " 18  rated_11              152826 non-null  int64  \n",
      " 19  rated_7               152826 non-null  int64  \n",
      " 20  rated_13              152826 non-null  int64  \n",
      " 21  rated_16              152826 non-null  int64  \n",
      " 22  rated_S               152826 non-null  int64  \n",
      " 23  rated_AO              152826 non-null  int64  \n",
      " 24  rated_III             152826 non-null  int64  \n",
      " 25  rated_K-14            152826 non-null  int64  \n",
      " 26  rated_E               152826 non-null  int64  \n",
      " 27  rated_Btl             152826 non-null  int64  \n",
      " 28  rated_M/12            152826 non-null  int64  \n",
      " 29  rated_15              152826 non-null  int64  \n",
      " 30  rated_U               152826 non-null  int64  \n",
      " 31  rated_KT              152826 non-null  int64  \n",
      " 32  rated_NOT RATED       152826 non-null  int64  \n",
      " 33  rated_UNRATED         152826 non-null  int64  \n",
      " 34  rated_KNT             152826 non-null  int64  \n",
      " 35  rated_(Banned)        152826 non-null  int64  \n",
      " 36  rated_IIB             152826 non-null  int64  \n",
      " 37  rated_T               152826 non-null  int64  \n",
      " 38  rated_6               152826 non-null  int64  \n",
      " 39  rated_R-18            152826 non-null  int64  \n",
      " 40  rated_Approved        152826 non-null  int64  \n",
      " 41  rated_o.Al.           152826 non-null  int64  \n",
      " 42  rated_14              152826 non-null  int64  \n",
      " 43  rated_I               152826 non-null  int64  \n",
      " 44  rated_TV-Y7           152826 non-null  int64  \n",
      " 45  rated_10              152826 non-null  int64  \n",
      " 46  rated_Atp             152826 non-null  int64  \n",
      " 47  rated_A               152826 non-null  int64  \n",
      " 48  rated_GP              152826 non-null  int64  \n",
      " 49  rated_K-3             152826 non-null  int64  \n",
      " 50  rated_AL              152826 non-null  int64  \n",
      " 51  rated_R15+            152826 non-null  int64  \n",
      " 52  rated_M/16            152826 non-null  int64  \n",
      " 53  rated_A.G.            152826 non-null  int64  \n",
      " 54  rated_PASSED          152826 non-null  int64  \n",
      " 55  rated_0               152826 non-null  int64  \n",
      " 56  genre_None            152826 non-null  int64  \n",
      " 57  genre_Adventure       152826 non-null  int64  \n",
      " 58  genre_War             152826 non-null  int64  \n",
      " 59  genre_Action          152826 non-null  int64  \n",
      " 60  genre_Mystery         152826 non-null  int64  \n",
      " 61  genre_Adult           152826 non-null  int64  \n",
      " 62  genre_Biography       152826 non-null  int64  \n",
      " 63  genre_Animation       152826 non-null  int64  \n",
      " 64  genre_Fantasy         152826 non-null  int64  \n",
      " 65  genre_Romance         152826 non-null  int64  \n",
      " 66  genre_Western         152826 non-null  int64  \n",
      " 67  genre_Reality-TV      152826 non-null  int64  \n",
      " 68  genre_Crime           152826 non-null  int64  \n",
      " 69  genre_Documentary     152826 non-null  int64  \n",
      " 70  genre_History         152826 non-null  int64  \n",
      " 71  genre_unknown         152826 non-null  int64  \n",
      " 72  genre_Comedy          152826 non-null  int64  \n",
      " 73  genre_Sci-Fi          152826 non-null  int64  \n",
      " 74  genre_Music           152826 non-null  int64  \n",
      " 75  genre_Drama           152826 non-null  int64  \n",
      " 76  genre_News            152826 non-null  int64  \n",
      " 77  genre_Musical         152826 non-null  int64  \n",
      " 78  genre_Short           152826 non-null  int64  \n",
      " 79  genre_Family          152826 non-null  int64  \n",
      " 80  genre_Thriller        152826 non-null  int64  \n",
      " 81  genre_Game-Show       152826 non-null  int64  \n",
      " 82  genre_Talk-Show       152826 non-null  int64  \n",
      " 83  genre_Sport           152826 non-null  int64  \n",
      " 84  genre_Horror          152826 non-null  int64  \n",
      "dtypes: float64(2), int64(81), object(2)\n",
      "memory usage: 100.3+ MB\n"
     ]
    }
   ],
   "source": [
    "#clean up raw data\n",
    "df2 =pd.read_csv('./data/raw_consolidate_visulalisation.csv',lineterminator='\\n')\n",
    "# remove columns\n",
    "df2=df2.drop(['titleType','originalTitle','endYear','directors','writers','seasonNumber',\n",
    "              'episodeNumber','parentTconst','themoviedb_id','status','Director', 'Writer',\n",
    "              'overview','Plot','DVD','production_companies_id','numVotes','rating1source',\n",
    "       'rating1value', 'rating2source', 'rating2value', 'rating3source',\n",
    "       'rating3value','Metascore','popularity','original_language','production_companies_name','production_countries',\n",
    "       'Awards','BoxOffice','revenue','vote_average','vote_count'],axis=1)\n",
    "#filter out aldult movies\n",
    "df2 =df2.loc[(df2.isAdult==0) ,:]\n",
    "df2['language']=df2['language'].astype(int)\n",
    "df2.belongs_to_collection.fillna(0,inplace=True)\n",
    "#conver flag if movie is in collection\n",
    "df2['is_in_collection'] = df2.apply(lambda x: 0 if x.belongs_to_collection==0 else 1, axis=1)\n",
    "#take month of release\n",
    "x=df2.Released.str.split(' ',expand=True)\n",
    "df2['release_month'] = x.iloc[:,1]\n",
    "df2['release_month'] =  pd.to_datetime(df2['release_month'], format='%b')\n",
    "df2['release_month'] = df2.apply(lambda x: x.release_month.month , axis=1)\n",
    "df2.release_month.fillna(0,inplace=True)\n",
    "df2['release_month']=df2['release_month'].astype(int)\n",
    "df2.rename(columns={'language':'number_of_languages'},inplace=True)\n",
    "#count number of popular actors/actress\n",
    "df2.Actors = df2.Actors.str.lower()\n",
    "x = df2.Actors.str.split(', ',expand=True).rename(columns={0:'A', 1:'B',2:'C',3:'D'})\n",
    "popular = pd.read_csv('./data/popular_actor_actress.csv')\n",
    "popular.names = popular.names.str.lower()\n",
    "popular_names = popular.names.to_list()\n",
    "x['popular1'] = x.apply(lambda y: 1 if y.A in popular_names else 0, axis=1)\n",
    "x['popular2'] = x.apply(lambda y: 1 if y.B in popular_names else 0, axis=1)\n",
    "x['popular3'] = x.apply(lambda y: 1 if y.C in popular_names else 0, axis=1)\n",
    "x['popular4'] = x.apply(lambda y: 1 if y.D in popular_names else 0, axis=1)\n",
    "x['popular']= x.popular1 + x.popular2 + x.popular3 + x.popular4\n",
    "df2['popular_actors_count'] = x.iloc[:,8]\n",
    "\n",
    "#encode rated columns\n",
    "df2.Rated.fillna('unknown',inplace=True)\n",
    "df2.replace({'Rated':{'TV-MA':'MA',\n",
    "                      'TV-PG':'PG',\n",
    "                      'Not Rated':'Unrated',\n",
    "                      'TV-G':'G',\n",
    "                      'APPROVED':'Approved',\n",
    "                      'TV-13':'PG-13',\n",
    "                      '0':'unknown',\n",
    "                      'Open':'Unrated',\n",
    "                      'MA-17':'MA',\n",
    "                      'MA-13':'MA',\n",
    "                      'M':'MA',\n",
    "                      'TV-Y':'del','E10+':'del','NC-17':'del','12':'del','M/PG':'del','18':'del','X':'del','TV-Y7-FV':'del'\n",
    "                      }},inplace=True)\n",
    "df2 = df2.loc[(df2.Rated!='del'),:]\n",
    "rate = df2.Rated.unique().tolist()\n",
    "rate_counts=[]\n",
    "for i in rate:\n",
    "    df2[f'rated_{i}'] = df2.apply(lambda y: 1 if (y.Rated==f'{i}') else 0, axis=1)\n",
    "    rate_counts.append(df2[f'rated_{i}'].sum())\n",
    "#encode genre columns\n",
    "x = df2.genres.str.split(',',expand=True).rename(columns={0:'A', 1:'B',2:'C'})\n",
    "genre1 = x.A.unique().tolist()\n",
    "genre2 = x.B.unique().tolist()\n",
    "genre3 = x.C.unique().tolist()\n",
    "genre = genre1 + genre2 + genre3\n",
    "genre = list(set(genre))\n",
    "genre_counts = []\n",
    "for i in genre:\n",
    "    x[f'{i}'] = x.apply(lambda y: 1 if (y.A==f'{i}') or (y.B==f'{i}') or (y.C==f'{i}') else 0, axis=1)\n",
    "    df2[f'genre_{i}'] = x[f'{i}']\n",
    "    genre_counts.append(df2[f'genre_{i}'].sum())\n",
    "\n",
    "df2=df2.drop(['belongs_to_collection','Released','isAdult','Actors','genres','Rated'],axis=1)\n",
    "\n",
    "df2.info()\n"
   ]
  },
  {
   "cell_type": "code",
   "execution_count": 13,
   "metadata": {},
   "outputs": [],
   "source": [
    "# %pip install seaborn"
   ]
  },
  {
   "cell_type": "code",
   "execution_count": 11,
   "metadata": {},
   "outputs": [
    {
     "data": {
      "image/png": "[encoded data removed]",
      "text/plain": [
       "<Figure size 720x720 with 1 Axes>"
      ]
     },
     "metadata": {
      "needs_background": "light"
     },
     "output_type": "display_data"
    }
   ],
   "source": [
    "#plot highest to lowest by genre\n",
    "all_genres = dict(zip(genre, genre_counts))\n",
    "all_genres_df = pd.DataFrame({'Genre': genre, 'Count': genre_counts})\n",
    "all_genres_df.fillna('None',inplace=True)\n",
    "import matplotlib.pyplot as plt \n",
    "import seaborn as sns\n",
    "\n",
    "g = all_genres_df.nlargest(columns=\"Count\", n = 50) \n",
    "plt.figure(figsize=(10,10))\n",
    "ax = sns.barplot(data=g, x= \"Count\", y = \"Genre\")\n",
    "ax.set(ylabel = 'Count')\n",
    "plt.show()\n",
    "\n",
    "\n"
   ]
  },
  {
   "cell_type": "code",
   "execution_count": 12,
   "metadata": {},
   "outputs": [],
   "source": [
    "#clean up genre columns\n",
    "remove_columns_genre = all_genres_df.loc[(all_genres_df.Count<=1624) & (all_genres_df.Genre!='unknown'),: ].Genre.unique()\n",
    "for i in range(0,len(remove_columns_genre)):\n",
    "    remove_columns_genre[i]= 'genre_'+ remove_columns_genre[i]\n",
    "df2.drop(remove_columns_genre,axis=1,inplace=True)   \n"
   ]
  },
  {
   "cell_type": "code",
   "execution_count": 13,
   "metadata": {},
   "outputs": [],
   "source": [
    "#move average rating to the end of the dataframe\n",
    "df2['AverageRating']=df2.averageRating\n",
    "df2.drop(columns=['averageRating'],inplace=True)"
   ]
  },
  {
   "cell_type": "code",
   "execution_count": 14,
   "metadata": {},
   "outputs": [
    {
     "data": {
      "image/png": "[encoded data removed]",
      "text/plain": [
       "<Figure size 720x720 with 1 Axes>"
      ]
     },
     "metadata": {
      "needs_background": "light"
     },
     "output_type": "display_data"
    }
   ],
   "source": [
    "#plot highest to lowest by rated\n",
    "all_rated = dict(zip(rate, rate_counts))\n",
    "all_rated_counts = pd.DataFrame({'Rated': rate, 'Count': rate_counts})\n",
    "\n",
    "# all_rated_counts.fillna('None',inplace=True)\n",
    "\n",
    "r = all_rated_counts.nlargest(columns=\"Count\", n = 50) \n",
    "plt.figure(figsize=(10,10))\n",
    "ax = sns.barplot(data=r, x= \"Count\", y = \"Rated\")\n",
    "ax.set(ylabel = 'Count')\n",
    "plt.show()\n"
   ]
  },
  {
   "cell_type": "code",
   "execution_count": 15,
   "metadata": {},
   "outputs": [],
   "source": [
    "#clean up rated columns, and create rating bins\n",
    "df2.drop(['rated_Approved','rated_TV-Y7'],axis=1,inplace=True)\n",
    "df2['budget']=df2['budget'].astype(int)\n",
    "df2['rating_bins'] = pd.cut(df2.AverageRating, [0, 2, 4, 6, 8, 10], labels=['E','D','C','B','A'],  right=False)\n",
    "df2.to_csv('./data/clean_raw_visualisation.csv',index=False)"
   ]
  },
  {
   "cell_type": "code",
   "execution_count": 19,
   "metadata": {},
   "outputs": [],
   "source": [
    "#machine learning\n",
    "from sklearn.model_selection import train_test_split"
   ]
  },
  {
   "cell_type": "code",
   "execution_count": 16,
   "metadata": {},
   "outputs": [
    {
     "name": "stdout",
     "output_type": "stream",
     "text": [
      "<class 'pandas.core.frame.DataFrame'>\n",
      "Int64Index: 152815 entries, 0 to 152825\n",
      "Data columns (total 75 columns):\n",
      " #   Column                Non-Null Count   Dtype  \n",
      "---  ------                --------------   -----  \n",
      " 0   tconst                152815 non-null  object \n",
      " 1   primaryTitle          152815 non-null  object \n",
      " 2   startYear             152815 non-null  int64  \n",
      " 3   runtimeMinutes        152815 non-null  int64  \n",
      " 4   number_of_languages   152815 non-null  int64  \n",
      " 5   budget                152815 non-null  int64  \n",
      " 6   is_in_collection      152815 non-null  int64  \n",
      " 7   release_month         152815 non-null  int64  \n",
      " 8   popular_actors_count  152815 non-null  int64  \n",
      " 9   rated_unknown         152815 non-null  int64  \n",
      " 10  rated_PG-13           152815 non-null  int64  \n",
      " 11  rated_R               152815 non-null  int64  \n",
      " 12  rated_Unrated         152815 non-null  int64  \n",
      " 13  rated_PG              152815 non-null  int64  \n",
      " 14  rated_MA              152815 non-null  int64  \n",
      " 15  rated_TV-14           152815 non-null  int64  \n",
      " 16  rated_G               152815 non-null  int64  \n",
      " 17  rated_11              152815 non-null  int64  \n",
      " 18  rated_7               152815 non-null  int64  \n",
      " 19  rated_13              152815 non-null  int64  \n",
      " 20  rated_16              152815 non-null  int64  \n",
      " 21  rated_S               152815 non-null  int64  \n",
      " 22  rated_AO              152815 non-null  int64  \n",
      " 23  rated_III             152815 non-null  int64  \n",
      " 24  rated_K-14            152815 non-null  int64  \n",
      " 25  rated_E               152815 non-null  int64  \n",
      " 26  rated_Btl             152815 non-null  int64  \n",
      " 27  rated_M/12            152815 non-null  int64  \n",
      " 28  rated_15              152815 non-null  int64  \n",
      " 29  rated_U               152815 non-null  int64  \n",
      " 30  rated_KT              152815 non-null  int64  \n",
      " 31  rated_NOT RATED       152815 non-null  int64  \n",
      " 32  rated_UNRATED         152815 non-null  int64  \n",
      " 33  rated_KNT             152815 non-null  int64  \n",
      " 34  rated_(Banned)        152815 non-null  int64  \n",
      " 35  rated_IIB             152815 non-null  int64  \n",
      " 36  rated_T               152815 non-null  int64  \n",
      " 37  rated_6               152815 non-null  int64  \n",
      " 38  rated_R-18            152815 non-null  int64  \n",
      " 39  rated_o.Al.           152815 non-null  int64  \n",
      " 40  rated_14              152815 non-null  int64  \n",
      " 41  rated_I               152815 non-null  int64  \n",
      " 42  rated_10              152815 non-null  int64  \n",
      " 43  rated_Atp             152815 non-null  int64  \n",
      " 44  rated_A               152815 non-null  int64  \n",
      " 45  rated_GP              152815 non-null  int64  \n",
      " 46  rated_K-3             152815 non-null  int64  \n",
      " 47  rated_AL              152815 non-null  int64  \n",
      " 48  rated_R15+            152815 non-null  int64  \n",
      " 49  rated_M/16            152815 non-null  int64  \n",
      " 50  rated_A.G.            152815 non-null  int64  \n",
      " 51  rated_PASSED          152815 non-null  int64  \n",
      " 52  rated_0               152815 non-null  int64  \n",
      " 53  genre_Adventure       152815 non-null  int64  \n",
      " 54  genre_War             152815 non-null  int64  \n",
      " 55  genre_Action          152815 non-null  int64  \n",
      " 56  genre_Mystery         152815 non-null  int64  \n",
      " 57  genre_Biography       152815 non-null  int64  \n",
      " 58  genre_Animation       152815 non-null  int64  \n",
      " 59  genre_Fantasy         152815 non-null  int64  \n",
      " 60  genre_Romance         152815 non-null  int64  \n",
      " 61  genre_Crime           152815 non-null  int64  \n",
      " 62  genre_Documentary     152815 non-null  int64  \n",
      " 63  genre_History         152815 non-null  int64  \n",
      " 64  genre_unknown         152815 non-null  int64  \n",
      " 65  genre_Comedy          152815 non-null  int64  \n",
      " 66  genre_Sci-Fi          152815 non-null  int64  \n",
      " 67  genre_Music           152815 non-null  int64  \n",
      " 68  genre_Drama           152815 non-null  int64  \n",
      " 69  genre_Family          152815 non-null  int64  \n",
      " 70  genre_Thriller        152815 non-null  int64  \n",
      " 71  genre_Sport           152815 non-null  int64  \n",
      " 72  genre_Horror          152815 non-null  int64  \n",
      " 73  AverageRating         152815 non-null  float64\n",
      " 74  rating_bins           152815 non-null  object \n",
      "dtypes: float64(1), int64(71), object(3)\n",
      "memory usage: 88.6+ MB\n"
     ]
    }
   ],
   "source": [
    "df = pd.read_csv('./data/clean_raw_data.csv')\n",
    "# Drop the null columns where all values are null\n",
    "df = df.dropna(axis='columns', how='all')\n",
    "# Drop the null rows\n",
    "df = df.dropna()\n",
    "df.info()"
   ]
  },
  {
   "cell_type": "code",
   "execution_count": 21,
   "metadata": {},
   "outputs": [],
   "source": [
    "selected_features = df.iloc[:,2:28].values"
   ]
  },
  {
   "cell_type": "code",
   "execution_count": 22,
   "metadata": {},
   "outputs": [],
   "source": [
    "y = df.iloc[:,29].values.reshape(-1,1)"
   ]
  },
  {
   "cell_type": "code",
   "execution_count": 23,
   "metadata": {},
   "outputs": [],
   "source": [
    "from sklearn.model_selection import train_test_split\n",
    "\n",
    "X_train, X_test, y_train, y_test = train_test_split(selected_features, y, random_state=2,test_size=.7)"
   ]
  },
  {
   "cell_type": "code",
   "execution_count": 24,
   "metadata": {},
   "outputs": [],
   "source": [
    "# Scale your data\n",
    "from sklearn.preprocessing import MinMaxScaler\n",
    "X_scaler = MinMaxScaler().fit(X_train)\n",
    "X_train_scaled = X_scaler.transform(X_train)\n",
    "X_test_scaled = X_scaler.transform(X_test)"
   ]
  },
  {
   "cell_type": "code",
   "execution_count": 25,
   "metadata": {},
   "outputs": [
    {
     "name": "stderr",
     "output_type": "stream",
     "text": [
      "/Users/juliacooper/opt/anaconda3/envs/bootcamp/lib/python3.7/site-packages/ipykernel_launcher.py:3: DataConversionWarning: A column-vector y was passed when a 1d array was expected. Please change the shape of y to (n_samples,), for example using ravel().\n",
      "  This is separate from the ipykernel package so we can avoid doing imports until\n"
     ]
    }
   ],
   "source": [
    "from sklearn.ensemble import RandomForestClassifier\n",
    "rf = RandomForestClassifier(n_estimators=300,max_features = 'sqrt',min_samples_leaf=2)\n",
    "rf = rf.fit(X_train_scaled, y_train)\n"
   ]
  },
  {
   "cell_type": "code",
   "execution_count": 26,
   "metadata": {},
   "outputs": [
    {
     "name": "stdout",
     "output_type": "stream",
     "text": [
      "Training Data Score: 0.8000793335977786\n",
      "Testing Data Score: 0.5700006799483239\n"
     ]
    }
   ],
   "source": [
    "print(f\"Training Data Score: {rf.score(X_train_scaled, y_train)}\")\n",
    "print(f\"Testing Data Score: {rf.score(X_test_scaled, y_test)}\")"
   ]
  },
  {
   "cell_type": "code",
   "execution_count": 27,
   "metadata": {},
   "outputs": [],
   "source": [
    "# Create the GridSearchCV model\n",
    "from sklearn.model_selection import GridSearchCV\n",
    "search_space = {\n",
    "    'n_estimators': [50,150,300],\n",
    "    'max_features':['sqrt',0.8,0.2],\n",
    "    'min_samples_leaf' : [1,2]\n",
    "    \n",
    "}"
   ]
  },
  {
   "cell_type": "code",
   "execution_count": 28,
   "metadata": {},
   "outputs": [],
   "source": [
    "# Train the model with GridSearch\n",
    "# grid = GridSearchCV(rf, search_space, verbose=3)"
   ]
  },
  {
   "cell_type": "code",
   "execution_count": 29,
   "metadata": {},
   "outputs": [],
   "source": [
    "# grid.fit(X_train_scaled, y_train)"
   ]
  },
  {
   "cell_type": "code",
   "execution_count": 30,
   "metadata": {},
   "outputs": [],
   "source": [
    "# print(grid.best_params_)\n",
    "# print(grid.best_score_)"
   ]
  },
  {
   "cell_type": "code",
   "execution_count": 31,
   "metadata": {},
   "outputs": [
    {
     "data": {
      "text/plain": [
       "['./random_forest.joblib']"
      ]
     },
     "execution_count": 31,
     "metadata": {},
     "output_type": "execute_result"
    }
   ],
   "source": [
    "import joblib\n",
    "joblib.dump(rf, \"./random_forest.joblib\")"
   ]
  },
  {
   "cell_type": "code",
   "execution_count": null,
   "metadata": {},
   "outputs": [],
   "source": []
  }
 ],
 "metadata": {
  "kernelspec": {
   "display_name": "Python 3 (ipykernel)",
   "language": "python",
   "name": "python3"
  },
  "language_info": {
   "codemirror_mode": {
    "name": "ipython",
    "version": 3
   },
   "file_extension": ".py",
   "mimetype": "text/x-python",
   "name": "python",
   "nbconvert_exporter": "python",
   "pygments_lexer": "ipython3",
   "version": "3.7.13"
  },
  "vscode": {
   "interpreter": {
    "hash": "4abd1faf7b2b10f26f9a505c3653863b06b1faf2a2cb062f8cbb37e3c36c3d7f"
   }
  }
 },
 "nbformat": 4,
 "nbformat_minor": 2
}
