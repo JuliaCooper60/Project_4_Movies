{
 "cells": [
  {
   "cell_type": "code",
   "execution_count": 1,
   "metadata": {},
   "outputs": [
    {
     "name": "stderr",
     "output_type": "stream",
     "text": [
      "c:\\Users\\datqu\\anaconda3\\envs\\bootcamp\\lib\\site-packages\\requests\\__init__.py:104: RequestsDependencyWarning: urllib3 (1.26.9) or chardet (5.0.0)/charset_normalizer (2.0.4) doesn't match a supported version!\n",
      "  RequestsDependencyWarning)\n"
     ]
    }
   ],
   "source": [
    "import requests\n",
    "import pandas as pd\n"
   ]
  },
  {
   "cell_type": "code",
   "execution_count": 18,
   "metadata": {},
   "outputs": [],
   "source": [
    "df2 = pd.read_csv('./data.csv')\n",
    "unique_ids = df2.tconst.unique()"
   ]
  },
  {
   "cell_type": "code",
   "execution_count": 37,
   "metadata": {},
   "outputs": [
    {
     "name": "stdout",
     "output_type": "stream",
     "text": [
      "movie number 1\n",
      "movie number 2\n",
      "movie number 3\n",
      "movie number 4\n",
      "movie number 5\n"
     ]
    }
   ],
   "source": [
    "df = pd.DataFrame({'tconst':[],\n",
    "                       'Rated':[],\n",
    "                   'Plot':[],\n",
    "                   'Awards':[],\n",
    "                   'Metascore':[],\n",
    "                   'DVD':[],\n",
    "                   'BoxOffice':[],\n",
    "                   'Actors':[],\n",
    "                   'Released':[],\n",
    "                   'Director':[],\n",
    "                   'Writer':[],\n",
    "                   'rating1source':[],'rating1value':[],'rating2source':[],'rating2value':[],'rating3source':[],'rating3value':[]\n",
    "                   })\n",
    "\n",
    "for id in unique_ids:\n",
    "    \n",
    "    \n",
    "    try:\n",
    "        url1 = f'http://www.omdbapi.com/?i={id}&apikey=bacb323c'\n",
    "        omdbdata = requests.get(url1).json()\n",
    "        print (f'success {id}')\n",
    "    except:\n",
    "        print(f'exception {id}')\n",
    "        continue\n",
    "    \n",
    "    if len(omdbdata['Ratings'])==0:\n",
    "        rating1source = 0\n",
    "        rating1value = 0\n",
    "        rating2source = 0\n",
    "        rating2value = 0\n",
    "        rating3source = 0\n",
    "        rating3value = 0\n",
    "    if len(omdbdata['Ratings'])==1:\n",
    "        rating1source = omdbdata['Ratings'][0]['Source']\n",
    "        rating1value = omdbdata['Ratings'][0]['Value']\n",
    "        rating2source = 0\n",
    "        rating2value = 0\n",
    "        rating3source = 0\n",
    "        rating3value = 0\n",
    "    if len(omdbdata['Ratings'])==2:\n",
    "        rating1source = omdbdata['Ratings'][0]['Source']\n",
    "        rating1value = omdbdata['Ratings'][0]['Value']\n",
    "        rating2source = omdbdata['Ratings'][1]['Source']\n",
    "        rating2value = omdbdata['Ratings'][1]['Value']\n",
    "        rating3source = 0\n",
    "        rating3value = 0\n",
    "    if len(omdbdata['Ratings'])>=3:\n",
    "        rating1source = omdbdata['Ratings'][0]['Source']\n",
    "        rating1value = omdbdata['Ratings'][0]['Value']\n",
    "        rating2source = omdbdata['Ratings'][1]['Source']\n",
    "        rating2value = omdbdata['Ratings'][1]['Value']\n",
    "        rating3source = omdbdata['Ratings'][2]['Source']\n",
    "        rating3value = omdbdata['Ratings'][2]['Value']\n",
    "    try:\n",
    "        dvd = omdbdata['DVD']\n",
    "    except:\n",
    "        dvd = 0\n",
    "    try:\n",
    "        BoxOffice = omdbdata['BoxOffice']\n",
    "    except:\n",
    "        BoxOffice = 0    \n",
    "    try:\n",
    "        Rated = omdbdata['Rated']\n",
    "    except:\n",
    "        Rated = 0  \n",
    "    try:\n",
    "        plot = omdbdata['Plot']\n",
    "    except:\n",
    "        plot = 0  \n",
    "    try:\n",
    "        Awards = omdbdata['Awards']\n",
    "    except:\n",
    "        Awards = 0  \n",
    "    try:\n",
    "        Metascore = omdbdata['Metascore']\n",
    "    except:\n",
    "        Metascore = 0  \n",
    "    try:\n",
    "        Actors=omdbdata['Actors']\n",
    "    except:\n",
    "        Actors = 0  \n",
    "    try:\n",
    "        Released = omdbdata['Released']\n",
    "    except:\n",
    "        Released = 0  \n",
    "    try:\n",
    "        Director = omdbdata['Director']\n",
    "    except:\n",
    "        Director = 0  \n",
    "    try:\n",
    "        Writer = omdbdata['Writer']   \n",
    "    except:\n",
    "        Writer = 0  \n",
    "\n",
    "    df = pd.concat([df ,\n",
    "                        pd.DataFrame([[id,Rated,plot,Awards,Metascore,dvd,\n",
    "                                       BoxOffice,Actors,Released,Director,Writer,\n",
    "                                       rating1source,rating1value,rating2source,rating2value,rating3source,rating3value]], \n",
    "                                            columns=['tconst','Rated','Plot','Awards','Metascore','DVD',\n",
    "                                                    'BoxOffice','Actors','Released','Director','Writer',\n",
    "                                                    'rating1source','rating1value','rating2source','rating2value','rating3source','rating3value']) ])\n",
    "    \n"
   ]
  },
  {
   "cell_type": "code",
   "execution_count": 26,
   "metadata": {},
   "outputs": [],
   "source": [
    "id = 'tt4154796'\n",
    "try:\n",
    "    url1 = f'http://www.omdbapi.com/?i={id}&apikey=bacb323c'\n",
    "    omdbdata = requests.get(url1).json()\n",
    "except:\n",
    "    print(f'exception {id}')\n",
    "    "
   ]
  },
  {
   "cell_type": "code",
   "execution_count": 33,
   "metadata": {},
   "outputs": [
    {
     "data": {
      "text/plain": [
       "{'Title': 'Horrid Henry Delivers the Milk',\n",
       " 'Year': '2012',\n",
       " 'Rated': 'N/A',\n",
       " 'Released': '11 Aug 2012',\n",
       " 'Season': '3',\n",
       " 'Episode': '47',\n",
       " 'Runtime': '10 min',\n",
       " 'Genre': 'Animation, Comedy, Family, Fantasy, Music',\n",
       " 'Director': 'Hilary Audus',\n",
       " 'Writer': 'Lucinda Whiteley, Francesca Simon (books)',\n",
       " 'Actors': 'Aidan Cook, Sue Elliott-Nichols, Wayne Forester, Eden Gamliel',\n",
       " 'Plot': \"One horrid move too far and Horrid Horrid Henry finds he's got a new job, which means getting up very early indeed.\",\n",
       " 'Language': 'N/A',\n",
       " 'Country': 'N/A',\n",
       " 'Awards': 'N/A',\n",
       " 'Poster': 'https://m.media-amazon.com/images/M/MV5BZjVlNTk0ODUtZGFkYi00YjAyLWIxOTctOTA1ZWY2NzFjYzhhXkEyXkFqcGdeQXVyNzg1MzQ1MzY@._V1_SX300.jpg',\n",
       " 'Ratings': [{'Source': 'Internet Movie Database', 'Value': '6.6/10'}],\n",
       " 'Metascore': 'N/A',\n",
       " 'imdbRating': '6.6',\n",
       " 'imdbVotes': '5',\n",
       " 'imdbID': 'tt9916690',\n",
       " 'seriesID': 'tt0985991',\n",
       " 'Type': 'episode',\n",
       " 'Response': 'True'}"
      ]
     },
     "execution_count": 33,
     "metadata": {},
     "output_type": "execute_result"
    }
   ],
   "source": [
    "omdbdata\n"
   ]
  },
  {
   "cell_type": "code",
   "execution_count": 30,
   "metadata": {},
   "outputs": [
    {
     "name": "stdout",
     "output_type": "stream",
     "text": [
      "Internet Movie Database 8.4/10 Rotten Tomatoes 94% Metacritic 78/100\n"
     ]
    }
   ],
   "source": [
    "\n"
   ]
  }
 ],
 "metadata": {
  "kernelspec": {
   "display_name": "Python 3.7.13 ('bootcamp')",
   "language": "python",
   "name": "python3"
  },
  "language_info": {
   "codemirror_mode": {
    "name": "ipython",
    "version": 3
   },
   "file_extension": ".py",
   "mimetype": "text/x-python",
   "name": "python",
   "nbconvert_exporter": "python",
   "pygments_lexer": "ipython3",
   "version": "3.7.13"
  },
  "orig_nbformat": 4,
  "vscode": {
   "interpreter": {
    "hash": "a7c284f6c3454d9296f827a682b0575908dd97079acfefde70d6f996863eb3eb"
   }
  }
 },
 "nbformat": 4,
 "nbformat_minor": 2
}
