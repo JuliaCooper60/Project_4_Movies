{
 "cells": [
  {
   "cell_type": "code",
   "execution_count": 1,
   "metadata": {},
   "outputs": [],
   "source": [
    "import pandas as pd\n",
    "import sqlite3\n"
   ]
  },
  {
   "cell_type": "code",
   "execution_count": 2,
   "metadata": {},
   "outputs": [],
   "source": [
    "movie_df2 =pd.read_csv('raw_consolidate_data.csv')"
   ]
  },
  {
   "cell_type": "code",
   "execution_count": 3,
   "metadata": {},
   "outputs": [],
   "source": [
    "conn = sqlite3.connect('project4.sqlite')"
   ]
  },
  {
   "cell_type": "code",
   "execution_count": 4,
   "metadata": {},
   "outputs": [],
   "source": [
    "movie_df2.to_sql(name='movie', con=conn, if_exists='replace', index=False)"
   ]
  },
  {
   "cell_type": "code",
   "execution_count": 5,
   "metadata": {},
   "outputs": [
    {
     "data": {
      "text/html": [
       "<div>\n",
       "<style scoped>\n",
       "    .dataframe tbody tr th:only-of-type {\n",
       "        vertical-align: middle;\n",
       "    }\n",
       "\n",
       "    .dataframe tbody tr th {\n",
       "        vertical-align: top;\n",
       "    }\n",
       "\n",
       "    .dataframe thead th {\n",
       "        text-align: right;\n",
       "    }\n",
       "</style>\n",
       "<table border=\"1\" class=\"dataframe\">\n",
       "  <thead>\n",
       "    <tr style=\"text-align: right;\">\n",
       "      <th></th>\n",
       "      <th>tconst</th>\n",
       "      <th>titleType</th>\n",
       "      <th>primaryTitle</th>\n",
       "      <th>originalTitle</th>\n",
       "      <th>isAdult</th>\n",
       "      <th>startYear</th>\n",
       "      <th>endYear</th>\n",
       "      <th>runtimeMinutes</th>\n",
       "      <th>genres</th>\n",
       "      <th>averageRating</th>\n",
       "      <th>...</th>\n",
       "      <th>Actors</th>\n",
       "      <th>Released</th>\n",
       "      <th>Director</th>\n",
       "      <th>Writer</th>\n",
       "      <th>rating1source</th>\n",
       "      <th>rating1value</th>\n",
       "      <th>rating2source</th>\n",
       "      <th>rating2value</th>\n",
       "      <th>rating3source</th>\n",
       "      <th>rating3value</th>\n",
       "    </tr>\n",
       "  </thead>\n",
       "  <tbody>\n",
       "    <tr>\n",
       "      <th>0</th>\n",
       "      <td>tt0013274</td>\n",
       "      <td>movie</td>\n",
       "      <td>Istoriya grazhdanskoy voyny</td>\n",
       "      <td>Istoriya grazhdanskoy voyny</td>\n",
       "      <td>0</td>\n",
       "      <td>2021</td>\n",
       "      <td>0</td>\n",
       "      <td>133</td>\n",
       "      <td>Documentary</td>\n",
       "      <td>6.4</td>\n",
       "      <td>...</td>\n",
       "      <td>None</td>\n",
       "      <td>10 May 2022</td>\n",
       "      <td>Nikolai Izvolov, Dziga Vertov</td>\n",
       "      <td>None</td>\n",
       "      <td>0.0</td>\n",
       "      <td>0.0</td>\n",
       "      <td>0.0</td>\n",
       "      <td>0.0</td>\n",
       "      <td>0.0</td>\n",
       "      <td>0.0</td>\n",
       "    </tr>\n",
       "    <tr>\n",
       "      <th>1</th>\n",
       "      <td>tt0062336</td>\n",
       "      <td>movie</td>\n",
       "      <td>The Tango of the Widower and Its Distorting Mi...</td>\n",
       "      <td>El Tango del Viudo y Su Espejo Deformante</td>\n",
       "      <td>0</td>\n",
       "      <td>2020</td>\n",
       "      <td>0</td>\n",
       "      <td>70</td>\n",
       "      <td>Drama</td>\n",
       "      <td>6.4</td>\n",
       "      <td>...</td>\n",
       "      <td>Rubén Sotoconil, Claudia Paz, Luis Alarcón</td>\n",
       "      <td>23 Sep 2020</td>\n",
       "      <td>Raúl Ruiz, Valeria Sarmiento</td>\n",
       "      <td>Raúl Ruiz, Omar Saavedra Santis</td>\n",
       "      <td>Internet Movie Database</td>\n",
       "      <td>6.3/10</td>\n",
       "      <td>0.0</td>\n",
       "      <td>0.0</td>\n",
       "      <td>0.0</td>\n",
       "      <td>0.0</td>\n",
       "    </tr>\n",
       "  </tbody>\n",
       "</table>\n",
       "<p>2 rows × 46 columns</p>\n",
       "</div>"
      ],
      "text/plain": [
       "      tconst titleType                                       primaryTitle  \\\n",
       "0  tt0013274     movie                        Istoriya grazhdanskoy voyny   \n",
       "1  tt0062336     movie  The Tango of the Widower and Its Distorting Mi...   \n",
       "\n",
       "                               originalTitle  isAdult  startYear  endYear  \\\n",
       "0                Istoriya grazhdanskoy voyny        0       2021        0   \n",
       "1  El Tango del Viudo y Su Espejo Deformante        0       2020        0   \n",
       "\n",
       "   runtimeMinutes       genres  averageRating  ...  \\\n",
       "0             133  Documentary            6.4  ...   \n",
       "1              70        Drama            6.4  ...   \n",
       "\n",
       "                                       Actors     Released  \\\n",
       "0                                        None  10 May 2022   \n",
       "1  Rubén Sotoconil, Claudia Paz, Luis Alarcón  23 Sep 2020   \n",
       "\n",
       "                        Director                           Writer  \\\n",
       "0  Nikolai Izvolov, Dziga Vertov                             None   \n",
       "1   Raúl Ruiz, Valeria Sarmiento  Raúl Ruiz, Omar Saavedra Santis   \n",
       "\n",
       "             rating1source  rating1value  rating2source  rating2value  \\\n",
       "0                      0.0           0.0            0.0           0.0   \n",
       "1  Internet Movie Database        6.3/10            0.0           0.0   \n",
       "\n",
       "  rating3source  rating3value  \n",
       "0           0.0           0.0  \n",
       "1           0.0           0.0  \n",
       "\n",
       "[2 rows x 46 columns]"
      ]
     },
     "execution_count": 5,
     "metadata": {},
     "output_type": "execute_result"
    }
   ],
   "source": [
    "movie_df = pd.read_sql('SELECT * FROM movie', conn)\n",
    "movie_df.head(2)"
   ]
  },
  {
   "cell_type": "code",
   "execution_count": null,
   "metadata": {},
   "outputs": [],
   "source": []
  }
 ],
 "metadata": {
  "kernelspec": {
   "display_name": "Python 3.7.13 ('bootcamp')",
   "language": "python",
   "name": "python3"
  },
  "language_info": {
   "codemirror_mode": {
    "name": "ipython",
    "version": 3
   },
   "file_extension": ".py",
   "mimetype": "text/x-python",
   "name": "python",
   "nbconvert_exporter": "python",
   "pygments_lexer": "ipython3",
   "version": "3.7.13"
  },
  "orig_nbformat": 4,
  "vscode": {
   "interpreter": {
    "hash": "4abd1faf7b2b10f26f9a505c3653863b06b1faf2a2cb062f8cbb37e3c36c3d7f"
   }
  }
 },
 "nbformat": 4,
 "nbformat_minor": 2
}
